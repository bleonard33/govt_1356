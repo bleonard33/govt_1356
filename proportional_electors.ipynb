{
 "cells": [
  {
   "cell_type": "markdown",
   "metadata": {},
   "source": [
    "# Examining Allocation of Electoral Votes Proportionally\n",
    "### Brendan Leonard // GOVT 1356 // December 2020"
   ]
  },
  {
   "cell_type": "code",
   "execution_count": 1,
   "metadata": {},
   "outputs": [],
   "source": [
    "import pandas as pd\n",
    "import numpy as np\n",
    "import requests\n",
    "import json\n",
    "\n",
    "pd.options.display.max_columns = None\n",
    "\n",
    "%load_ext lab_black"
   ]
  },
  {
   "cell_type": "code",
   "execution_count": 2,
   "metadata": {},
   "outputs": [],
   "source": [
    "import ssl\n",
    "\n",
    "ssl._create_default_https_context = ssl._create_unverified_context"
   ]
  },
  {
   "cell_type": "code",
   "execution_count": 3,
   "metadata": {},
   "outputs": [],
   "source": [
    "FETCH_POLITICO_DATA = True\n",
    "JSON_DIR = \"./json\"\n",
    "DATA_DIR = \"./data\""
   ]
  },
  {
   "cell_type": "markdown",
   "metadata": {},
   "source": [
    "## Collect & Transform Data"
   ]
  },
  {
   "cell_type": "markdown",
   "metadata": {},
   "source": [
    "### FIPS Data from Census Bureau"
   ]
  },
  {
   "cell_type": "code",
   "execution_count": 4,
   "metadata": {},
   "outputs": [],
   "source": [
    "# Source: https://www2.census.gov/geo/docs/reference/state.txt\n",
    "geo = pd.read_csv(\"https://www2.census.gov/geo/docs/reference/state.txt\", sep=\"|\")\n",
    "geo.columns = (\"fips\", \"state_abb\", \"state_name\", \"state_gnisid\")\n",
    "geo = geo.drop(columns=[\"state_gnisid\"])"
   ]
  },
  {
   "cell_type": "code",
   "execution_count": 5,
   "metadata": {},
   "outputs": [
    {
     "data": {
      "text/html": [
       "<div>\n",
       "<style scoped>\n",
       "    .dataframe tbody tr th:only-of-type {\n",
       "        vertical-align: middle;\n",
       "    }\n",
       "\n",
       "    .dataframe tbody tr th {\n",
       "        vertical-align: top;\n",
       "    }\n",
       "\n",
       "    .dataframe thead th {\n",
       "        text-align: right;\n",
       "    }\n",
       "</style>\n",
       "<table border=\"1\" class=\"dataframe\">\n",
       "  <thead>\n",
       "    <tr style=\"text-align: right;\">\n",
       "      <th></th>\n",
       "      <th>fips</th>\n",
       "      <th>state_abb</th>\n",
       "      <th>state_name</th>\n",
       "    </tr>\n",
       "  </thead>\n",
       "  <tbody>\n",
       "    <tr>\n",
       "      <th>0</th>\n",
       "      <td>1</td>\n",
       "      <td>AL</td>\n",
       "      <td>Alabama</td>\n",
       "    </tr>\n",
       "    <tr>\n",
       "      <th>1</th>\n",
       "      <td>2</td>\n",
       "      <td>AK</td>\n",
       "      <td>Alaska</td>\n",
       "    </tr>\n",
       "    <tr>\n",
       "      <th>2</th>\n",
       "      <td>4</td>\n",
       "      <td>AZ</td>\n",
       "      <td>Arizona</td>\n",
       "    </tr>\n",
       "    <tr>\n",
       "      <th>3</th>\n",
       "      <td>5</td>\n",
       "      <td>AR</td>\n",
       "      <td>Arkansas</td>\n",
       "    </tr>\n",
       "    <tr>\n",
       "      <th>4</th>\n",
       "      <td>6</td>\n",
       "      <td>CA</td>\n",
       "      <td>California</td>\n",
       "    </tr>\n",
       "  </tbody>\n",
       "</table>\n",
       "</div>"
      ],
      "text/plain": [
       "   fips state_abb  state_name\n",
       "0     1        AL     Alabama\n",
       "1     2        AK      Alaska\n",
       "2     4        AZ     Arizona\n",
       "3     5        AR    Arkansas\n",
       "4     6        CA  California"
      ]
     },
     "execution_count": 5,
     "metadata": {},
     "output_type": "execute_result"
    }
   ],
   "source": [
    "geo.head()"
   ]
  },
  {
   "cell_type": "markdown",
   "metadata": {},
   "source": [
    "## Fetch and Load Elections Data from Politico"
   ]
  },
  {
   "cell_type": "code",
   "execution_count": 6,
   "metadata": {},
   "outputs": [],
   "source": [
    "# Source: https://www.politico.com/2020-election/results/president/\n",
    "DATA_SOURCES = {\n",
    "    \"president_meta\": {\n",
    "        \"url\": \"https://www.politico.com/2020-national-metadata/potus.meta.json\",\n",
    "        \"json_file\": f\"{JSON_DIR}/politico_president_meta.json\",\n",
    "    },\n",
    "    \"president_results\": {\n",
    "        \"url\": \"https://www.politico.com/2020-national-results/president-overall.json\",\n",
    "        \"json_file\": f\"{JSON_DIR}/politico_president_results.json\",\n",
    "    },\n",
    "}"
   ]
  },
  {
   "cell_type": "code",
   "execution_count": 7,
   "metadata": {},
   "outputs": [],
   "source": [
    "if FETCH_POLITICO_DATA:\n",
    "    for k, v in DATA_SOURCES.items():\n",
    "        with open(v[\"json_file\"], \"w\") as f:\n",
    "            json.dump(requests.get(v[\"url\"]).json(), f)"
   ]
  },
  {
   "cell_type": "code",
   "execution_count": 8,
   "metadata": {},
   "outputs": [],
   "source": [
    "with open(DATA_SOURCES[\"president_meta\"][\"json_file\"], \"r\") as f:\n",
    "    pres_meta = json.load(f)\n",
    "\n",
    "with open(DATA_SOURCES[\"president_results\"][\"json_file\"], \"r\") as f:\n",
    "    pres = json.load(f)[\"races\"]"
   ]
  },
  {
   "cell_type": "markdown",
   "metadata": {},
   "source": [
    "### Wrangle and Transform Data"
   ]
  },
  {
   "cell_type": "code",
   "execution_count": 9,
   "metadata": {},
   "outputs": [],
   "source": [
    "delete_pres_keys = True\n",
    "pres_candidates = []\n",
    "for i, state in enumerate(pres_meta):\n",
    "    for candidate in state.get(\"candidates\"):\n",
    "        candidate[\"stateFips\"] = state.get(\"stateFips\")\n",
    "        candidate[\"electors\"] = state.get(\"electors\")\n",
    "        candidate[\"rating\"] = state.get(\"rating\")\n",
    "        pres_candidates.append(candidate)\n",
    "\n",
    "    for election in state.get(\"historical\").get(\"forPresident\"):\n",
    "        year = str(election.get(\"year\"))[-2:]\n",
    "        pres_meta[i][f\"dem_vote_{year}\"] = election.get(\"demVote\")\n",
    "        pres_meta[i][f\"dem_vote_pct_{year}\"] = election.get(\"demVotePct\")\n",
    "        pres_meta[i][f\"rep_vote_{year}\"] = election.get(\"gopVote\")\n",
    "        pres_meta[i][f\"rep_vote_pct_{year}\"] = election.get(\"gopVotePct\")\n",
    "        pres_meta[i][f\"win_party_{year}\"] = election.get(\"winner\")\n",
    "\n",
    "    if delete_pres_keys:\n",
    "        del state[\"candidates\"]\n",
    "        del state[\"historical\"]\n",
    "\n",
    "pres_meta = pd.DataFrame(pres_meta)\n",
    "pres_candidates = pd.DataFrame(pres_candidates)"
   ]
  },
  {
   "cell_type": "code",
   "execution_count": 10,
   "metadata": {},
   "outputs": [],
   "source": [
    "pres_results = []\n",
    "for i, race in enumerate(pres):\n",
    "    for i, candidate in enumerate(race[\"candidates\"]):\n",
    "        candidate[\"stateFips\"] = race.get(\"stateFips\")\n",
    "        pres_results.append(candidate)\n",
    "\n",
    "pres_results = pd.DataFrame(pres_results)"
   ]
  },
  {
   "cell_type": "code",
   "execution_count": 11,
   "metadata": {},
   "outputs": [],
   "source": [
    "pres_meta = pres_meta.drop(\n",
    "    columns=[\"holdingParty\", \"isBallot\", \"isSpecial\", \"isUnopposed\"]\n",
    ")\n",
    "pres_candidates = pres_candidates.drop(columns=[\"aggregable\", \"ballotOrder\"])"
   ]
  },
  {
   "cell_type": "code",
   "execution_count": 12,
   "metadata": {},
   "outputs": [],
   "source": [
    "# Combine data sets\n",
    "pres_results = pres_results.merge(pres_candidates)"
   ]
  },
  {
   "cell_type": "code",
   "execution_count": 13,
   "metadata": {},
   "outputs": [],
   "source": [
    "pres_results = (\n",
    "    pres_results.sort_values(\"electors\", ascending=False)[\n",
    "        [\n",
    "            \"stateFips\",\n",
    "            \"vote\",\n",
    "            \"shortName\",\n",
    "        ]\n",
    "    ]\n",
    "    .drop_duplicates()\n",
    "    .reset_index(drop=True)\n",
    ")"
   ]
  },
  {
   "cell_type": "code",
   "execution_count": 14,
   "metadata": {},
   "outputs": [],
   "source": [
    "pres_results = pres_results.pivot_table(\n",
    "    values=\"vote\", index=\"stateFips\", columns=\"shortName\"\n",
    ")"
   ]
  },
  {
   "cell_type": "code",
   "execution_count": 15,
   "metadata": {},
   "outputs": [],
   "source": [
    "third_party = [\n",
    "    x\n",
    "    for x in pres_results.columns\n",
    "    if x not in (\"Biden\", \"Trump\", \"stateFips\", \"electors\", \"party\", \"rating\")\n",
    "]\n",
    "\n",
    "pres_results[\"third_party_vote\"] = pres_results[third_party].sum(axis=1)\n",
    "pres_results = pres_results.drop(columns=third_party)\n",
    "pres_results = pres_results.reset_index().rename(\n",
    "    columns={\"Biden\": \"biden_vote\", \"Trump\": \"trump_vote\", \"stateFips\": \"state_fips\"}\n",
    ")"
   ]
  },
  {
   "cell_type": "code",
   "execution_count": 16,
   "metadata": {},
   "outputs": [],
   "source": [
    "pres_results.state_fips = pres_results.state_fips.astype(int)\n",
    "pres_results = pres_results.merge(geo, left_on=\"state_fips\", right_on=\"fips\").drop(\n",
    "    columns=[\"fips\", \"state_name\"]\n",
    ")"
   ]
  },
  {
   "cell_type": "code",
   "execution_count": 17,
   "metadata": {},
   "outputs": [],
   "source": [
    "pres_results[\"total_vote\"] = pres_results[\n",
    "    [\"biden_vote\", \"trump_vote\", \"third_party_vote\"]\n",
    "].sum(axis=1)"
   ]
  },
  {
   "cell_type": "code",
   "execution_count": 18,
   "metadata": {},
   "outputs": [],
   "source": [
    "for candidate in [\"biden\", \"trump\", \"third_party\"]:\n",
    "    pres_results[f\"{candidate}_pct\"] = (\n",
    "        pres_results[f\"{candidate}_vote\"] / pres_results[\"total_vote\"]\n",
    "    )"
   ]
  },
  {
   "cell_type": "code",
   "execution_count": 19,
   "metadata": {},
   "outputs": [],
   "source": [
    "pres_meta = pres_meta[pres_meta.districtNumber.isna()].drop(\n",
    "    columns=[\"districtNumber\", \"raceid\"]\n",
    ")"
   ]
  },
  {
   "cell_type": "code",
   "execution_count": 20,
   "metadata": {},
   "outputs": [],
   "source": [
    "pres_meta.stateFips = pres_meta.stateFips.astype(int)\n",
    "pres_results = pres_results.merge(pres_meta, left_on=\"state_fips\", right_on=\"stateFips\")"
   ]
  },
  {
   "cell_type": "code",
   "execution_count": 21,
   "metadata": {},
   "outputs": [],
   "source": [
    "# Data has ME and NE split by districts, so combine for state totals\n",
    "pres_results.loc[pres_results.state_abb == \"ME\", \"electors\"] = 4\n",
    "pres_results.loc[pres_results.state_abb == \"NE\", \"electors\"] = 5"
   ]
  },
  {
   "cell_type": "code",
   "execution_count": 22,
   "metadata": {},
   "outputs": [
    {
     "data": {
      "text/html": [
       "<div>\n",
       "<style scoped>\n",
       "    .dataframe tbody tr th:only-of-type {\n",
       "        vertical-align: middle;\n",
       "    }\n",
       "\n",
       "    .dataframe tbody tr th {\n",
       "        vertical-align: top;\n",
       "    }\n",
       "\n",
       "    .dataframe thead th {\n",
       "        text-align: right;\n",
       "    }\n",
       "</style>\n",
       "<table border=\"1\" class=\"dataframe\">\n",
       "  <thead>\n",
       "    <tr style=\"text-align: right;\">\n",
       "      <th></th>\n",
       "      <th>state_fips</th>\n",
       "      <th>biden_vote</th>\n",
       "      <th>trump_vote</th>\n",
       "      <th>third_party_vote</th>\n",
       "      <th>state_abb</th>\n",
       "      <th>total_vote</th>\n",
       "      <th>biden_pct</th>\n",
       "      <th>trump_pct</th>\n",
       "      <th>third_party_pct</th>\n",
       "      <th>dem_vote_08</th>\n",
       "      <th>dem_vote_12</th>\n",
       "      <th>dem_vote_16</th>\n",
       "      <th>dem_vote_pct_08</th>\n",
       "      <th>dem_vote_pct_12</th>\n",
       "      <th>dem_vote_pct_16</th>\n",
       "      <th>electors</th>\n",
       "      <th>rating</th>\n",
       "      <th>rep_vote_08</th>\n",
       "      <th>rep_vote_12</th>\n",
       "      <th>rep_vote_16</th>\n",
       "      <th>rep_vote_pct_08</th>\n",
       "      <th>rep_vote_pct_12</th>\n",
       "      <th>rep_vote_pct_16</th>\n",
       "      <th>stateFips</th>\n",
       "      <th>win_party_08</th>\n",
       "      <th>win_party_12</th>\n",
       "      <th>win_party_16</th>\n",
       "    </tr>\n",
       "  </thead>\n",
       "  <tbody>\n",
       "    <tr>\n",
       "      <th>0</th>\n",
       "      <td>1</td>\n",
       "      <td>849624.0</td>\n",
       "      <td>1441170.0</td>\n",
       "      <td>25176.0</td>\n",
       "      <td>AL</td>\n",
       "      <td>2315970.0</td>\n",
       "      <td>0.366854</td>\n",
       "      <td>0.622275</td>\n",
       "      <td>0.010871</td>\n",
       "      <td>813479.0</td>\n",
       "      <td>795696.0</td>\n",
       "      <td>729547.0</td>\n",
       "      <td>0.3911</td>\n",
       "      <td>0.3878</td>\n",
       "      <td>0.3563</td>\n",
       "      <td>9</td>\n",
       "      <td>solid-r</td>\n",
       "      <td>1266546.0</td>\n",
       "      <td>1255925.0</td>\n",
       "      <td>1318255.0</td>\n",
       "      <td>0.6089</td>\n",
       "      <td>0.6122</td>\n",
       "      <td>0.6437</td>\n",
       "      <td>1</td>\n",
       "      <td>gop</td>\n",
       "      <td>gop</td>\n",
       "      <td>gop</td>\n",
       "    </tr>\n",
       "    <tr>\n",
       "      <th>1</th>\n",
       "      <td>2</td>\n",
       "      <td>153778.0</td>\n",
       "      <td>189951.0</td>\n",
       "      <td>13840.0</td>\n",
       "      <td>AK</td>\n",
       "      <td>357569.0</td>\n",
       "      <td>0.430065</td>\n",
       "      <td>0.531229</td>\n",
       "      <td>0.038706</td>\n",
       "      <td>123594.0</td>\n",
       "      <td>122640.0</td>\n",
       "      <td>116454.0</td>\n",
       "      <td>0.3894</td>\n",
       "      <td>0.4268</td>\n",
       "      <td>0.4161</td>\n",
       "      <td>3</td>\n",
       "      <td>lean-r</td>\n",
       "      <td>193841.0</td>\n",
       "      <td>164676.0</td>\n",
       "      <td>163387.0</td>\n",
       "      <td>0.6106</td>\n",
       "      <td>0.5732</td>\n",
       "      <td>0.5839</td>\n",
       "      <td>2</td>\n",
       "      <td>gop</td>\n",
       "      <td>gop</td>\n",
       "      <td>gop</td>\n",
       "    </tr>\n",
       "    <tr>\n",
       "      <th>2</th>\n",
       "      <td>4</td>\n",
       "      <td>1672143.0</td>\n",
       "      <td>1661686.0</td>\n",
       "      <td>51465.0</td>\n",
       "      <td>AZ</td>\n",
       "      <td>3385294.0</td>\n",
       "      <td>0.493943</td>\n",
       "      <td>0.490854</td>\n",
       "      <td>0.015203</td>\n",
       "      <td>1034707.0</td>\n",
       "      <td>1025232.0</td>\n",
       "      <td>1161167.0</td>\n",
       "      <td>0.4569</td>\n",
       "      <td>0.4539</td>\n",
       "      <td>0.4811</td>\n",
       "      <td>11</td>\n",
       "      <td>toss-up</td>\n",
       "      <td>1230111.0</td>\n",
       "      <td>1233654.0</td>\n",
       "      <td>1252401.0</td>\n",
       "      <td>0.5431</td>\n",
       "      <td>0.5461</td>\n",
       "      <td>0.5189</td>\n",
       "      <td>4</td>\n",
       "      <td>gop</td>\n",
       "      <td>gop</td>\n",
       "      <td>gop</td>\n",
       "    </tr>\n",
       "    <tr>\n",
       "      <th>3</th>\n",
       "      <td>5</td>\n",
       "      <td>423932.0</td>\n",
       "      <td>760647.0</td>\n",
       "      <td>34490.0</td>\n",
       "      <td>AR</td>\n",
       "      <td>1219069.0</td>\n",
       "      <td>0.347751</td>\n",
       "      <td>0.623957</td>\n",
       "      <td>0.028292</td>\n",
       "      <td>422310.0</td>\n",
       "      <td>394409.0</td>\n",
       "      <td>380494.0</td>\n",
       "      <td>0.3983</td>\n",
       "      <td>0.3785</td>\n",
       "      <td>0.3571</td>\n",
       "      <td>6</td>\n",
       "      <td>solid-r</td>\n",
       "      <td>638017.0</td>\n",
       "      <td>647744.0</td>\n",
       "      <td>684872.0</td>\n",
       "      <td>0.6017</td>\n",
       "      <td>0.6215</td>\n",
       "      <td>0.6429</td>\n",
       "      <td>5</td>\n",
       "      <td>gop</td>\n",
       "      <td>gop</td>\n",
       "      <td>gop</td>\n",
       "    </tr>\n",
       "    <tr>\n",
       "      <th>4</th>\n",
       "      <td>6</td>\n",
       "      <td>11109764.0</td>\n",
       "      <td>6005961.0</td>\n",
       "      <td>380101.0</td>\n",
       "      <td>CA</td>\n",
       "      <td>17495826.0</td>\n",
       "      <td>0.634995</td>\n",
       "      <td>0.343280</td>\n",
       "      <td>0.021725</td>\n",
       "      <td>8274473.0</td>\n",
       "      <td>7854285.0</td>\n",
       "      <td>8753788.0</td>\n",
       "      <td>0.6228</td>\n",
       "      <td>0.6187</td>\n",
       "      <td>0.6613</td>\n",
       "      <td>55</td>\n",
       "      <td>solid-d</td>\n",
       "      <td>5011781.0</td>\n",
       "      <td>4839958.0</td>\n",
       "      <td>4483810.0</td>\n",
       "      <td>0.3772</td>\n",
       "      <td>0.3813</td>\n",
       "      <td>0.3387</td>\n",
       "      <td>6</td>\n",
       "      <td>dem</td>\n",
       "      <td>dem</td>\n",
       "      <td>dem</td>\n",
       "    </tr>\n",
       "  </tbody>\n",
       "</table>\n",
       "</div>"
      ],
      "text/plain": [
       "   state_fips  biden_vote  trump_vote  third_party_vote state_abb  total_vote  \\\n",
       "0           1    849624.0   1441170.0           25176.0        AL   2315970.0   \n",
       "1           2    153778.0    189951.0           13840.0        AK    357569.0   \n",
       "2           4   1672143.0   1661686.0           51465.0        AZ   3385294.0   \n",
       "3           5    423932.0    760647.0           34490.0        AR   1219069.0   \n",
       "4           6  11109764.0   6005961.0          380101.0        CA  17495826.0   \n",
       "\n",
       "   biden_pct  trump_pct  third_party_pct  dem_vote_08  dem_vote_12  \\\n",
       "0   0.366854   0.622275         0.010871     813479.0     795696.0   \n",
       "1   0.430065   0.531229         0.038706     123594.0     122640.0   \n",
       "2   0.493943   0.490854         0.015203    1034707.0    1025232.0   \n",
       "3   0.347751   0.623957         0.028292     422310.0     394409.0   \n",
       "4   0.634995   0.343280         0.021725    8274473.0    7854285.0   \n",
       "\n",
       "   dem_vote_16  dem_vote_pct_08  dem_vote_pct_12  dem_vote_pct_16  electors  \\\n",
       "0     729547.0           0.3911           0.3878           0.3563         9   \n",
       "1     116454.0           0.3894           0.4268           0.4161         3   \n",
       "2    1161167.0           0.4569           0.4539           0.4811        11   \n",
       "3     380494.0           0.3983           0.3785           0.3571         6   \n",
       "4    8753788.0           0.6228           0.6187           0.6613        55   \n",
       "\n",
       "    rating  rep_vote_08  rep_vote_12  rep_vote_16  rep_vote_pct_08  \\\n",
       "0  solid-r    1266546.0    1255925.0    1318255.0           0.6089   \n",
       "1   lean-r     193841.0     164676.0     163387.0           0.6106   \n",
       "2  toss-up    1230111.0    1233654.0    1252401.0           0.5431   \n",
       "3  solid-r     638017.0     647744.0     684872.0           0.6017   \n",
       "4  solid-d    5011781.0    4839958.0    4483810.0           0.3772   \n",
       "\n",
       "   rep_vote_pct_12  rep_vote_pct_16  stateFips win_party_08 win_party_12  \\\n",
       "0           0.6122           0.6437          1          gop          gop   \n",
       "1           0.5732           0.5839          2          gop          gop   \n",
       "2           0.5461           0.5189          4          gop          gop   \n",
       "3           0.6215           0.6429          5          gop          gop   \n",
       "4           0.3813           0.3387          6          dem          dem   \n",
       "\n",
       "  win_party_16  \n",
       "0          gop  \n",
       "1          gop  \n",
       "2          gop  \n",
       "3          gop  \n",
       "4          dem  "
      ]
     },
     "execution_count": 22,
     "metadata": {},
     "output_type": "execute_result"
    }
   ],
   "source": [
    "pres_results.head()"
   ]
  },
  {
   "cell_type": "code",
   "execution_count": 23,
   "metadata": {},
   "outputs": [
    {
     "data": {
      "text/plain": [
       "biden_vote    0.523021\n",
       "trump_vote    0.476979\n",
       "dtype: float64"
      ]
     },
     "execution_count": 23,
     "metadata": {},
     "output_type": "execute_result"
    }
   ],
   "source": [
    "pres_results[[\"biden_vote\", \"trump_vote\"]].sum() / pres_results[\n",
    "    [\"biden_vote\", \"trump_vote\"]\n",
    "].sum().sum()"
   ]
  },
  {
   "cell_type": "markdown",
   "metadata": {},
   "source": [
    "## Allocate Electors of Past Elections"
   ]
  },
  {
   "cell_type": "code",
   "execution_count": 24,
   "metadata": {},
   "outputs": [],
   "source": [
    "vote_cols_20 = {\n",
    "    \"biden_vote\": \"dem_vote_20\",\n",
    "    \"trump_vote\": \"rep_vote_20\",\n",
    "    \"third_party_vote\": \"third_vote_20\",\n",
    "}"
   ]
  },
  {
   "cell_type": "code",
   "execution_count": 25,
   "metadata": {},
   "outputs": [],
   "source": [
    "hist = pres_results.rename(columns=vote_cols_20)[\n",
    "    [\"state_abb\", \"electors\", \"rating\"]\n",
    "    + [\n",
    "        f\"{party}_vote_{year}\"\n",
    "        for party in [\"dem\", \"rep\"]\n",
    "        for year in [\"08\", \"12\", \"16\", \"20\"]\n",
    "    ]\n",
    "]"
   ]
  },
  {
   "cell_type": "code",
   "execution_count": 26,
   "metadata": {},
   "outputs": [],
   "source": [
    "hist = pd.wide_to_long(\n",
    "    hist, stubnames=[\"dem_vote_\", \"rep_vote_\", \"third_vote_\"], i=\"state_abb\", j=\"year\"\n",
    ")"
   ]
  },
  {
   "cell_type": "code",
   "execution_count": 27,
   "metadata": {},
   "outputs": [],
   "source": [
    "hist = hist.reset_index().rename(\n",
    "    columns={\n",
    "        \"state_abb\": \"state\",\n",
    "        \"dem_vote_\": \"dem_vote\",\n",
    "        \"rep_vote_\": \"rep_vote\",\n",
    "        \"third_vote_\": \"third_vote\",\n",
    "    }\n",
    ")"
   ]
  },
  {
   "cell_type": "code",
   "execution_count": 28,
   "metadata": {},
   "outputs": [],
   "source": [
    "hist[\"year\"] = hist.year + 2000"
   ]
  },
  {
   "cell_type": "code",
   "execution_count": 29,
   "metadata": {},
   "outputs": [],
   "source": [
    "hist = hist.drop(columns=[\"third_vote\"])\n",
    "hist[\"total_vote\"] = hist.dem_vote + hist.rep_vote\n",
    "hist[\"dem_pct\"] = hist.dem_vote / hist.total_vote * 100\n",
    "hist[\"rep_pct\"] = hist.rep_vote / hist.total_vote * 100"
   ]
  },
  {
   "cell_type": "code",
   "execution_count": 30,
   "metadata": {},
   "outputs": [],
   "source": [
    "hist.electors = hist.electors.astype(int)"
   ]
  },
  {
   "cell_type": "code",
   "execution_count": 31,
   "metadata": {},
   "outputs": [],
   "source": [
    "def determine_prop_electors(x):\n",
    "    votes_per_elector = x.total_vote / x.electors\n",
    "\n",
    "    dem_electors = x.dem_vote // votes_per_elector\n",
    "    dem_remainder = x.dem_vote % votes_per_elector\n",
    "\n",
    "    rep_electors = x.rep_vote // votes_per_elector\n",
    "    rep_remainder = x.rep_vote % votes_per_elector\n",
    "\n",
    "    remaining_elector = x.electors - (dem_electors + rep_electors)\n",
    "\n",
    "    if remaining_elector == 1:\n",
    "        if dem_remainder > rep_remainder:\n",
    "            dem_electors += 1\n",
    "        elif dem_remainder < rep_remainder:\n",
    "            rep_electors += 1\n",
    "        elif dem_remainder == rep_remainder:\n",
    "            raise (\"Exact tie for remaining elector.\")\n",
    "    elif remaining_elector > 1:\n",
    "        raise (\"More than one elector unassigned.\")\n",
    "\n",
    "    x[\"prop_dem_electors\"] = int(dem_electors)\n",
    "    x[\"prop_rep_electors\"] = int(rep_electors)\n",
    "\n",
    "    return x"
   ]
  },
  {
   "cell_type": "code",
   "execution_count": 32,
   "metadata": {},
   "outputs": [],
   "source": [
    "hist = hist.apply(determine_prop_electors, axis=1)"
   ]
  },
  {
   "cell_type": "code",
   "execution_count": 33,
   "metadata": {},
   "outputs": [
    {
     "data": {
      "text/html": [
       "<div>\n",
       "<style scoped>\n",
       "    .dataframe tbody tr th:only-of-type {\n",
       "        vertical-align: middle;\n",
       "    }\n",
       "\n",
       "    .dataframe tbody tr th {\n",
       "        vertical-align: top;\n",
       "    }\n",
       "\n",
       "    .dataframe thead th {\n",
       "        text-align: right;\n",
       "    }\n",
       "</style>\n",
       "<table border=\"1\" class=\"dataframe\">\n",
       "  <thead>\n",
       "    <tr style=\"text-align: right;\">\n",
       "      <th></th>\n",
       "      <th>state</th>\n",
       "      <th>year</th>\n",
       "      <th>rating</th>\n",
       "      <th>electors</th>\n",
       "      <th>dem_vote</th>\n",
       "      <th>rep_vote</th>\n",
       "      <th>total_vote</th>\n",
       "      <th>dem_pct</th>\n",
       "      <th>rep_pct</th>\n",
       "      <th>prop_dem_electors</th>\n",
       "      <th>prop_rep_electors</th>\n",
       "    </tr>\n",
       "  </thead>\n",
       "  <tbody>\n",
       "    <tr>\n",
       "      <th>0</th>\n",
       "      <td>AL</td>\n",
       "      <td>2008</td>\n",
       "      <td>solid-r</td>\n",
       "      <td>9</td>\n",
       "      <td>813479.0</td>\n",
       "      <td>1266546.0</td>\n",
       "      <td>2080025.0</td>\n",
       "      <td>39.109097</td>\n",
       "      <td>60.890903</td>\n",
       "      <td>4</td>\n",
       "      <td>5</td>\n",
       "    </tr>\n",
       "    <tr>\n",
       "      <th>1</th>\n",
       "      <td>AK</td>\n",
       "      <td>2008</td>\n",
       "      <td>lean-r</td>\n",
       "      <td>3</td>\n",
       "      <td>123594.0</td>\n",
       "      <td>193841.0</td>\n",
       "      <td>317435.0</td>\n",
       "      <td>38.935215</td>\n",
       "      <td>61.064785</td>\n",
       "      <td>1</td>\n",
       "      <td>2</td>\n",
       "    </tr>\n",
       "    <tr>\n",
       "      <th>2</th>\n",
       "      <td>AZ</td>\n",
       "      <td>2008</td>\n",
       "      <td>toss-up</td>\n",
       "      <td>11</td>\n",
       "      <td>1034707.0</td>\n",
       "      <td>1230111.0</td>\n",
       "      <td>2264818.0</td>\n",
       "      <td>45.686099</td>\n",
       "      <td>54.313901</td>\n",
       "      <td>5</td>\n",
       "      <td>6</td>\n",
       "    </tr>\n",
       "    <tr>\n",
       "      <th>3</th>\n",
       "      <td>AR</td>\n",
       "      <td>2008</td>\n",
       "      <td>solid-r</td>\n",
       "      <td>6</td>\n",
       "      <td>422310.0</td>\n",
       "      <td>638017.0</td>\n",
       "      <td>1060327.0</td>\n",
       "      <td>39.828279</td>\n",
       "      <td>60.171721</td>\n",
       "      <td>2</td>\n",
       "      <td>4</td>\n",
       "    </tr>\n",
       "    <tr>\n",
       "      <th>4</th>\n",
       "      <td>CA</td>\n",
       "      <td>2008</td>\n",
       "      <td>solid-d</td>\n",
       "      <td>55</td>\n",
       "      <td>8274473.0</td>\n",
       "      <td>5011781.0</td>\n",
       "      <td>13286254.0</td>\n",
       "      <td>62.278450</td>\n",
       "      <td>37.721550</td>\n",
       "      <td>34</td>\n",
       "      <td>21</td>\n",
       "    </tr>\n",
       "  </tbody>\n",
       "</table>\n",
       "</div>"
      ],
      "text/plain": [
       "  state  year   rating  electors   dem_vote   rep_vote  total_vote    dem_pct  \\\n",
       "0    AL  2008  solid-r         9   813479.0  1266546.0   2080025.0  39.109097   \n",
       "1    AK  2008   lean-r         3   123594.0   193841.0    317435.0  38.935215   \n",
       "2    AZ  2008  toss-up        11  1034707.0  1230111.0   2264818.0  45.686099   \n",
       "3    AR  2008  solid-r         6   422310.0   638017.0   1060327.0  39.828279   \n",
       "4    CA  2008  solid-d        55  8274473.0  5011781.0  13286254.0  62.278450   \n",
       "\n",
       "     rep_pct  prop_dem_electors  prop_rep_electors  \n",
       "0  60.890903                  4                  5  \n",
       "1  61.064785                  1                  2  \n",
       "2  54.313901                  5                  6  \n",
       "3  60.171721                  2                  4  \n",
       "4  37.721550                 34                 21  "
      ]
     },
     "execution_count": 33,
     "metadata": {},
     "output_type": "execute_result"
    }
   ],
   "source": [
    "hist.head()"
   ]
  },
  {
   "cell_type": "code",
   "execution_count": 34,
   "metadata": {},
   "outputs": [],
   "source": [
    "def electors_actual(x):\n",
    "    if x.dem_pct > x.rep_pct:\n",
    "        x[\"act_dem_electors\"] = x.electors\n",
    "        x[\"act_rep_electors\"] = 0\n",
    "    else:\n",
    "        x[\"act_rep_electors\"] = x.electors\n",
    "        x[\"act_dem_electors\"] = 0\n",
    "\n",
    "    return x\n",
    "\n",
    "\n",
    "hist = hist.apply(electors_actual, axis=1)\n",
    "\n",
    "# Correct ME & NE split actual allocations\n",
    "hist.loc[(hist.state == \"ME\") & (hist.year == 2020), \"act_dem_electors\"] = 3\n",
    "hist.loc[(hist.state == \"ME\") & (hist.year == 2020), \"act_rep_electors\"] = 1\n",
    "hist.loc[(hist.state == \"NE\") & (hist.year == 2020), \"act_dem_electors\"] = 1\n",
    "hist.loc[(hist.state == \"NE\") & (hist.year == 2020), \"act_rep_electors\"] = 4\n",
    "\n",
    "hist.loc[(hist.state == \"ME\") & (hist.year == 2016), \"act_dem_electors\"] = 3\n",
    "hist.loc[(hist.state == \"ME\") & (hist.year == 2016), \"act_rep_electors\"] = 1\n",
    "\n",
    "hist.loc[(hist.state == \"NE\") & (hist.year == 2016), \"act_dem_electors\"] = 1\n",
    "hist.loc[(hist.state == \"NE\") & (hist.year == 2016), \"act_rep_electors\"] = 4"
   ]
  },
  {
   "cell_type": "code",
   "execution_count": 35,
   "metadata": {},
   "outputs": [],
   "source": [
    "hist.rating = hist.rating.str.title()"
   ]
  },
  {
   "cell_type": "code",
   "execution_count": 36,
   "metadata": {},
   "outputs": [
    {
     "data": {
      "text/html": [
       "<div>\n",
       "<style scoped>\n",
       "    .dataframe tbody tr th:only-of-type {\n",
       "        vertical-align: middle;\n",
       "    }\n",
       "\n",
       "    .dataframe tbody tr th {\n",
       "        vertical-align: top;\n",
       "    }\n",
       "\n",
       "    .dataframe thead th {\n",
       "        text-align: right;\n",
       "    }\n",
       "</style>\n",
       "<table border=\"1\" class=\"dataframe\">\n",
       "  <thead>\n",
       "    <tr style=\"text-align: right;\">\n",
       "      <th></th>\n",
       "      <th>act_dem_electors</th>\n",
       "      <th>act_rep_electors</th>\n",
       "      <th>dem_pct</th>\n",
       "      <th>dem_vote</th>\n",
       "      <th>electors</th>\n",
       "      <th>prop_dem_electors</th>\n",
       "      <th>prop_rep_electors</th>\n",
       "      <th>rating</th>\n",
       "      <th>rep_pct</th>\n",
       "      <th>rep_vote</th>\n",
       "      <th>state</th>\n",
       "      <th>total_vote</th>\n",
       "      <th>year</th>\n",
       "    </tr>\n",
       "  </thead>\n",
       "  <tbody>\n",
       "    <tr>\n",
       "      <th>0</th>\n",
       "      <td>0</td>\n",
       "      <td>9</td>\n",
       "      <td>39.109097</td>\n",
       "      <td>813479.0</td>\n",
       "      <td>9</td>\n",
       "      <td>4</td>\n",
       "      <td>5</td>\n",
       "      <td>Solid-R</td>\n",
       "      <td>60.890903</td>\n",
       "      <td>1266546.0</td>\n",
       "      <td>AL</td>\n",
       "      <td>2080025.0</td>\n",
       "      <td>2008</td>\n",
       "    </tr>\n",
       "    <tr>\n",
       "      <th>1</th>\n",
       "      <td>0</td>\n",
       "      <td>3</td>\n",
       "      <td>38.935215</td>\n",
       "      <td>123594.0</td>\n",
       "      <td>3</td>\n",
       "      <td>1</td>\n",
       "      <td>2</td>\n",
       "      <td>Lean-R</td>\n",
       "      <td>61.064785</td>\n",
       "      <td>193841.0</td>\n",
       "      <td>AK</td>\n",
       "      <td>317435.0</td>\n",
       "      <td>2008</td>\n",
       "    </tr>\n",
       "    <tr>\n",
       "      <th>2</th>\n",
       "      <td>0</td>\n",
       "      <td>11</td>\n",
       "      <td>45.686099</td>\n",
       "      <td>1034707.0</td>\n",
       "      <td>11</td>\n",
       "      <td>5</td>\n",
       "      <td>6</td>\n",
       "      <td>Toss-Up</td>\n",
       "      <td>54.313901</td>\n",
       "      <td>1230111.0</td>\n",
       "      <td>AZ</td>\n",
       "      <td>2264818.0</td>\n",
       "      <td>2008</td>\n",
       "    </tr>\n",
       "    <tr>\n",
       "      <th>3</th>\n",
       "      <td>0</td>\n",
       "      <td>6</td>\n",
       "      <td>39.828279</td>\n",
       "      <td>422310.0</td>\n",
       "      <td>6</td>\n",
       "      <td>2</td>\n",
       "      <td>4</td>\n",
       "      <td>Solid-R</td>\n",
       "      <td>60.171721</td>\n",
       "      <td>638017.0</td>\n",
       "      <td>AR</td>\n",
       "      <td>1060327.0</td>\n",
       "      <td>2008</td>\n",
       "    </tr>\n",
       "    <tr>\n",
       "      <th>4</th>\n",
       "      <td>55</td>\n",
       "      <td>0</td>\n",
       "      <td>62.278450</td>\n",
       "      <td>8274473.0</td>\n",
       "      <td>55</td>\n",
       "      <td>34</td>\n",
       "      <td>21</td>\n",
       "      <td>Solid-D</td>\n",
       "      <td>37.721550</td>\n",
       "      <td>5011781.0</td>\n",
       "      <td>CA</td>\n",
       "      <td>13286254.0</td>\n",
       "      <td>2008</td>\n",
       "    </tr>\n",
       "  </tbody>\n",
       "</table>\n",
       "</div>"
      ],
      "text/plain": [
       "   act_dem_electors  act_rep_electors    dem_pct   dem_vote  electors  \\\n",
       "0                 0                 9  39.109097   813479.0         9   \n",
       "1                 0                 3  38.935215   123594.0         3   \n",
       "2                 0                11  45.686099  1034707.0        11   \n",
       "3                 0                 6  39.828279   422310.0         6   \n",
       "4                55                 0  62.278450  8274473.0        55   \n",
       "\n",
       "   prop_dem_electors  prop_rep_electors   rating    rep_pct   rep_vote state  \\\n",
       "0                  4                  5  Solid-R  60.890903  1266546.0    AL   \n",
       "1                  1                  2   Lean-R  61.064785   193841.0    AK   \n",
       "2                  5                  6  Toss-Up  54.313901  1230111.0    AZ   \n",
       "3                  2                  4  Solid-R  60.171721   638017.0    AR   \n",
       "4                 34                 21  Solid-D  37.721550  5011781.0    CA   \n",
       "\n",
       "   total_vote  year  \n",
       "0   2080025.0  2008  \n",
       "1    317435.0  2008  \n",
       "2   2264818.0  2008  \n",
       "3   1060327.0  2008  \n",
       "4  13286254.0  2008  "
      ]
     },
     "execution_count": 36,
     "metadata": {},
     "output_type": "execute_result"
    }
   ],
   "source": [
    "hist.head()"
   ]
  },
  {
   "cell_type": "code",
   "execution_count": 37,
   "metadata": {},
   "outputs": [],
   "source": [
    "hist.to_csv(f\"{DATA_DIR}/presidential_elections_allocation.csv\", index=False)"
   ]
  },
  {
   "cell_type": "code",
   "execution_count": 38,
   "metadata": {},
   "outputs": [],
   "source": [
    "hist_national = hist.groupby(\"year\").agg(\n",
    "    {\n",
    "        \"dem_vote\": sum,\n",
    "        \"rep_vote\": sum,\n",
    "        \"total_vote\": sum,\n",
    "        \"act_dem_electors\": sum,\n",
    "        \"act_rep_electors\": sum,\n",
    "        \"prop_dem_electors\": sum,\n",
    "        \"prop_rep_electors\": sum,\n",
    "    }\n",
    ")"
   ]
  },
  {
   "cell_type": "code",
   "execution_count": 39,
   "metadata": {},
   "outputs": [],
   "source": [
    "hist_national[\"dem_pct\"] = (hist_national.dem_vote / hist_national.total_vote) * 100\n",
    "hist_national[\"rep_pct\"] = (hist_national.rep_vote / hist_national.total_vote) * 100"
   ]
  },
  {
   "cell_type": "code",
   "execution_count": 40,
   "metadata": {},
   "outputs": [
    {
     "data": {
      "text/html": [
       "<div>\n",
       "<style scoped>\n",
       "    .dataframe tbody tr th:only-of-type {\n",
       "        vertical-align: middle;\n",
       "    }\n",
       "\n",
       "    .dataframe tbody tr th {\n",
       "        vertical-align: top;\n",
       "    }\n",
       "\n",
       "    .dataframe thead th {\n",
       "        text-align: right;\n",
       "    }\n",
       "</style>\n",
       "<table border=\"1\" class=\"dataframe\">\n",
       "  <thead>\n",
       "    <tr style=\"text-align: right;\">\n",
       "      <th></th>\n",
       "      <th>dem_vote</th>\n",
       "      <th>rep_vote</th>\n",
       "      <th>total_vote</th>\n",
       "      <th>act_dem_electors</th>\n",
       "      <th>act_rep_electors</th>\n",
       "      <th>prop_dem_electors</th>\n",
       "      <th>prop_rep_electors</th>\n",
       "      <th>dem_pct</th>\n",
       "      <th>rep_pct</th>\n",
       "    </tr>\n",
       "    <tr>\n",
       "      <th>year</th>\n",
       "      <th></th>\n",
       "      <th></th>\n",
       "      <th></th>\n",
       "      <th></th>\n",
       "      <th></th>\n",
       "      <th></th>\n",
       "      <th></th>\n",
       "      <th></th>\n",
       "      <th></th>\n",
       "    </tr>\n",
       "  </thead>\n",
       "  <tbody>\n",
       "    <tr>\n",
       "      <th>2008</th>\n",
       "      <td>6.933885e+07</td>\n",
       "      <td>59613835.0</td>\n",
       "      <td>1.289527e+08</td>\n",
       "      <td>358</td>\n",
       "      <td>180</td>\n",
       "      <td>286</td>\n",
       "      <td>252</td>\n",
       "      <td>53.770767</td>\n",
       "      <td>46.229233</td>\n",
       "    </tr>\n",
       "    <tr>\n",
       "      <th>2012</th>\n",
       "      <td>6.575202e+07</td>\n",
       "      <td>60670117.0</td>\n",
       "      <td>1.264221e+08</td>\n",
       "      <td>332</td>\n",
       "      <td>206</td>\n",
       "      <td>276</td>\n",
       "      <td>262</td>\n",
       "      <td>52.009893</td>\n",
       "      <td>47.990107</td>\n",
       "    </tr>\n",
       "    <tr>\n",
       "      <th>2016</th>\n",
       "      <td>6.567717e+07</td>\n",
       "      <td>62692411.0</td>\n",
       "      <td>1.283696e+08</td>\n",
       "      <td>233</td>\n",
       "      <td>305</td>\n",
       "      <td>270</td>\n",
       "      <td>268</td>\n",
       "      <td>51.162564</td>\n",
       "      <td>48.837436</td>\n",
       "    </tr>\n",
       "    <tr>\n",
       "      <th>2020</th>\n",
       "      <td>8.095072e+07</td>\n",
       "      <td>73824626.0</td>\n",
       "      <td>1.547753e+08</td>\n",
       "      <td>306</td>\n",
       "      <td>232</td>\n",
       "      <td>276</td>\n",
       "      <td>262</td>\n",
       "      <td>52.302078</td>\n",
       "      <td>47.697922</td>\n",
       "    </tr>\n",
       "  </tbody>\n",
       "</table>\n",
       "</div>"
      ],
      "text/plain": [
       "          dem_vote    rep_vote    total_vote  act_dem_electors  \\\n",
       "year                                                             \n",
       "2008  6.933885e+07  59613835.0  1.289527e+08               358   \n",
       "2012  6.575202e+07  60670117.0  1.264221e+08               332   \n",
       "2016  6.567717e+07  62692411.0  1.283696e+08               233   \n",
       "2020  8.095072e+07  73824626.0  1.547753e+08               306   \n",
       "\n",
       "      act_rep_electors  prop_dem_electors  prop_rep_electors    dem_pct  \\\n",
       "year                                                                      \n",
       "2008               180                286                252  53.770767   \n",
       "2012               206                276                262  52.009893   \n",
       "2016               305                270                268  51.162564   \n",
       "2020               232                276                262  52.302078   \n",
       "\n",
       "        rep_pct  \n",
       "year             \n",
       "2008  46.229233  \n",
       "2012  47.990107  \n",
       "2016  48.837436  \n",
       "2020  47.697922  "
      ]
     },
     "execution_count": 40,
     "metadata": {},
     "output_type": "execute_result"
    }
   ],
   "source": [
    "hist_national"
   ]
  },
  {
   "cell_type": "code",
   "execution_count": 41,
   "metadata": {},
   "outputs": [
    {
     "data": {
      "text/plain": [
       "0.8654281362262602"
      ]
     },
     "execution_count": 41,
     "metadata": {},
     "output_type": "execute_result"
    }
   ],
   "source": [
    "# Correlation of actual allocation and percent of vote\n",
    "np.corrcoef((hist_national.act_dem_electors / 538), hist_national.dem_pct)[0][1]"
   ]
  },
  {
   "cell_type": "code",
   "execution_count": 42,
   "metadata": {},
   "outputs": [
    {
     "data": {
      "text/plain": [
       "0.9939211689596883"
      ]
     },
     "execution_count": 42,
     "metadata": {},
     "output_type": "execute_result"
    }
   ],
   "source": [
    "# Correlation of proportional allocation and percent of vote\n",
    "np.corrcoef((hist_national.prop_dem_electors / 538), hist_national.dem_pct)[0][1]"
   ]
  },
  {
   "cell_type": "code",
   "execution_count": 43,
   "metadata": {},
   "outputs": [],
   "source": [
    "# Copy for report\n",
    "hist_national[\n",
    "    [\n",
    "        \"dem_pct\",\n",
    "        \"rep_pct\",\n",
    "        \"act_dem_electors\",\n",
    "        \"act_rep_electors\",\n",
    "        \"prop_dem_electors\",\n",
    "        \"prop_rep_electors\",\n",
    "    ]\n",
    "].to_clipboard()"
   ]
  },
  {
   "cell_type": "code",
   "execution_count": 44,
   "metadata": {},
   "outputs": [],
   "source": [
    "# Copy for report\n",
    "hist[hist.year == 2020][\n",
    "    [\n",
    "        \"state\",\n",
    "        \"electors\",\n",
    "        \"rating\",\n",
    "        \"dem_pct\",\n",
    "        \"rep_pct\",\n",
    "        \"act_dem_electors\",\n",
    "        \"act_rep_electors\",\n",
    "        \"prop_dem_electors\",\n",
    "        \"prop_rep_electors\",\n",
    "    ]\n",
    "].to_clipboard(index=False)"
   ]
  },
  {
   "cell_type": "markdown",
   "metadata": {},
   "source": [
    "## 2020 Election"
   ]
  },
  {
   "cell_type": "code",
   "execution_count": 45,
   "metadata": {},
   "outputs": [],
   "source": [
    "allocation_2020 = hist[hist.year == 2020][\n",
    "    [\n",
    "        \"state\",\n",
    "        \"electors\",\n",
    "        \"rating\",\n",
    "        \"dem_pct\",\n",
    "        \"rep_pct\",\n",
    "        \"act_dem_electors\",\n",
    "        \"act_rep_electors\",\n",
    "        \"prop_dem_electors\",\n",
    "        \"prop_rep_electors\",\n",
    "    ]\n",
    "]"
   ]
  },
  {
   "cell_type": "code",
   "execution_count": 46,
   "metadata": {},
   "outputs": [
    {
     "data": {
      "text/html": [
       "<div>\n",
       "<style scoped>\n",
       "    .dataframe tbody tr th:only-of-type {\n",
       "        vertical-align: middle;\n",
       "    }\n",
       "\n",
       "    .dataframe tbody tr th {\n",
       "        vertical-align: top;\n",
       "    }\n",
       "\n",
       "    .dataframe thead th {\n",
       "        text-align: right;\n",
       "    }\n",
       "</style>\n",
       "<table border=\"1\" class=\"dataframe\">\n",
       "  <thead>\n",
       "    <tr style=\"text-align: right;\">\n",
       "      <th></th>\n",
       "      <th>state</th>\n",
       "      <th>electors</th>\n",
       "      <th>rating</th>\n",
       "      <th>dem_pct</th>\n",
       "      <th>rep_pct</th>\n",
       "      <th>act_dem_electors</th>\n",
       "      <th>act_rep_electors</th>\n",
       "      <th>prop_dem_electors</th>\n",
       "      <th>prop_rep_electors</th>\n",
       "    </tr>\n",
       "  </thead>\n",
       "  <tbody>\n",
       "    <tr>\n",
       "      <th>153</th>\n",
       "      <td>AL</td>\n",
       "      <td>9</td>\n",
       "      <td>Solid-R</td>\n",
       "      <td>37.088625</td>\n",
       "      <td>62.911375</td>\n",
       "      <td>0</td>\n",
       "      <td>9</td>\n",
       "      <td>3</td>\n",
       "      <td>6</td>\n",
       "    </tr>\n",
       "    <tr>\n",
       "      <th>154</th>\n",
       "      <td>AK</td>\n",
       "      <td>3</td>\n",
       "      <td>Lean-R</td>\n",
       "      <td>44.738151</td>\n",
       "      <td>55.261849</td>\n",
       "      <td>0</td>\n",
       "      <td>3</td>\n",
       "      <td>1</td>\n",
       "      <td>2</td>\n",
       "    </tr>\n",
       "    <tr>\n",
       "      <th>155</th>\n",
       "      <td>AZ</td>\n",
       "      <td>11</td>\n",
       "      <td>Toss-Up</td>\n",
       "      <td>50.156832</td>\n",
       "      <td>49.843168</td>\n",
       "      <td>11</td>\n",
       "      <td>0</td>\n",
       "      <td>6</td>\n",
       "      <td>5</td>\n",
       "    </tr>\n",
       "    <tr>\n",
       "      <th>156</th>\n",
       "      <td>AR</td>\n",
       "      <td>6</td>\n",
       "      <td>Solid-R</td>\n",
       "      <td>35.787567</td>\n",
       "      <td>64.212433</td>\n",
       "      <td>0</td>\n",
       "      <td>6</td>\n",
       "      <td>2</td>\n",
       "      <td>4</td>\n",
       "    </tr>\n",
       "    <tr>\n",
       "      <th>157</th>\n",
       "      <td>CA</td>\n",
       "      <td>55</td>\n",
       "      <td>Solid-D</td>\n",
       "      <td>64.909690</td>\n",
       "      <td>35.090310</td>\n",
       "      <td>55</td>\n",
       "      <td>0</td>\n",
       "      <td>36</td>\n",
       "      <td>19</td>\n",
       "    </tr>\n",
       "  </tbody>\n",
       "</table>\n",
       "</div>"
      ],
      "text/plain": [
       "    state  electors   rating    dem_pct    rep_pct  act_dem_electors  \\\n",
       "153    AL         9  Solid-R  37.088625  62.911375                 0   \n",
       "154    AK         3   Lean-R  44.738151  55.261849                 0   \n",
       "155    AZ        11  Toss-Up  50.156832  49.843168                11   \n",
       "156    AR         6  Solid-R  35.787567  64.212433                 0   \n",
       "157    CA        55  Solid-D  64.909690  35.090310                55   \n",
       "\n",
       "     act_rep_electors  prop_dem_electors  prop_rep_electors  \n",
       "153                 9                  3                  6  \n",
       "154                 3                  1                  2  \n",
       "155                 0                  6                  5  \n",
       "156                 6                  2                  4  \n",
       "157                 0                 36                 19  "
      ]
     },
     "execution_count": 46,
     "metadata": {},
     "output_type": "execute_result"
    }
   ],
   "source": [
    "allocation_2020.to_csv(f\"{DATA_DIR}/2020_election_allocation.csv\", index=False)\n",
    "allocation_2020.head()"
   ]
  },
  {
   "cell_type": "markdown",
   "metadata": {},
   "source": [
    "## Correlations"
   ]
  },
  {
   "cell_type": "code",
   "execution_count": 47,
   "metadata": {},
   "outputs": [
    {
     "name": "stdout",
     "output_type": "stream",
     "text": [
      "Dem: 0.7898214664159974\n",
      "Rep: 0.7898214664159974\n"
     ]
    }
   ],
   "source": [
    "# Correlation of actual allocation to percent of vote\n",
    "dem_corr = np.corrcoef(\n",
    "    allocation_2020.dem_pct,\n",
    "    (allocation_2020.act_dem_electors / allocation_2020.electors),\n",
    ")[0][1]\n",
    "rep_corr = np.corrcoef(\n",
    "    allocation_2020.rep_pct,\n",
    "    (allocation_2020.act_rep_electors / allocation_2020.electors),\n",
    ")[0][1]\n",
    "print(\"Dem:\", dem_corr)\n",
    "print(\"Rep:\", rep_corr)"
   ]
  },
  {
   "cell_type": "code",
   "execution_count": 48,
   "metadata": {},
   "outputs": [
    {
     "name": "stdout",
     "output_type": "stream",
     "text": [
      "Dem: 0.9435143508678683\n",
      "Rep: 0.9435143508678685\n"
     ]
    }
   ],
   "source": [
    "# Correlation of proportional allocation to percent of vote\n",
    "dem_corr = np.corrcoef(\n",
    "    allocation_2020.dem_pct,\n",
    "    (allocation_2020.prop_dem_electors / allocation_2020.electors),\n",
    ")[0][1]\n",
    "rep_corr = np.corrcoef(\n",
    "    allocation_2020.rep_pct,\n",
    "    (allocation_2020.prop_rep_electors / allocation_2020.electors),\n",
    ")[0][1]\n",
    "print(\"Dem:\", dem_corr)\n",
    "print(\"Rep:\", rep_corr)"
   ]
  },
  {
   "cell_type": "markdown",
   "metadata": {},
   "source": [
    "## Georgia 2020 Example"
   ]
  },
  {
   "cell_type": "code",
   "execution_count": 49,
   "metadata": {},
   "outputs": [
    {
     "data": {
      "text/html": [
       "<div>\n",
       "<style scoped>\n",
       "    .dataframe tbody tr th:only-of-type {\n",
       "        vertical-align: middle;\n",
       "    }\n",
       "\n",
       "    .dataframe tbody tr th {\n",
       "        vertical-align: top;\n",
       "    }\n",
       "\n",
       "    .dataframe thead th {\n",
       "        text-align: right;\n",
       "    }\n",
       "</style>\n",
       "<table border=\"1\" class=\"dataframe\">\n",
       "  <thead>\n",
       "    <tr style=\"text-align: right;\">\n",
       "      <th></th>\n",
       "      <th>state_abb</th>\n",
       "      <th>electors</th>\n",
       "      <th>biden_vote</th>\n",
       "      <th>trump_vote</th>\n",
       "    </tr>\n",
       "  </thead>\n",
       "  <tbody>\n",
       "    <tr>\n",
       "      <th>10</th>\n",
       "      <td>GA</td>\n",
       "      <td>16</td>\n",
       "      <td>2473633.0</td>\n",
       "      <td>2461854.0</td>\n",
       "    </tr>\n",
       "  </tbody>\n",
       "</table>\n",
       "</div>"
      ],
      "text/plain": [
       "   state_abb  electors  biden_vote  trump_vote\n",
       "10        GA        16   2473633.0   2461854.0"
      ]
     },
     "execution_count": 49,
     "metadata": {},
     "output_type": "execute_result"
    }
   ],
   "source": [
    "ga_2020 = pres_results[\n",
    "    [\n",
    "        \"state_abb\",\n",
    "        \"electors\",\n",
    "        \"biden_vote\",\n",
    "        \"trump_vote\",\n",
    "    ]\n",
    "][pres_results.state_abb == \"GA\"]\n",
    "ga_2020.head(20)"
   ]
  },
  {
   "cell_type": "code",
   "execution_count": 50,
   "metadata": {},
   "outputs": [],
   "source": [
    "total_votes = 2473633 + 2461854\n",
    "electors = 16\n",
    "votes_per_elector = total_votes / electors\n",
    "\n",
    "biden_vote = 2473633\n",
    "trump_vote = 2461854"
   ]
  },
  {
   "cell_type": "code",
   "execution_count": 51,
   "metadata": {},
   "outputs": [
    {
     "data": {
      "text/plain": [
       "8.0"
      ]
     },
     "execution_count": 51,
     "metadata": {},
     "output_type": "execute_result"
    }
   ],
   "source": [
    "# Whole number of electoral votes for Biden\n",
    "biden_vote // votes_per_elector"
   ]
  },
  {
   "cell_type": "code",
   "execution_count": 52,
   "metadata": {},
   "outputs": [
    {
     "data": {
      "text/plain": [
       "7.0"
      ]
     },
     "execution_count": 52,
     "metadata": {},
     "output_type": "execute_result"
    }
   ],
   "source": [
    "# Whole number of electoral votes for Trump\n",
    "trump_vote // votes_per_elector"
   ]
  },
  {
   "cell_type": "code",
   "execution_count": 53,
   "metadata": {},
   "outputs": [
    {
     "data": {
      "text/plain": [
       "5889.5"
      ]
     },
     "execution_count": 53,
     "metadata": {},
     "output_type": "execute_result"
    }
   ],
   "source": [
    "# Remaining votes towards next marginal EV for Biden\n",
    "biden_vote % votes_per_elector"
   ]
  },
  {
   "cell_type": "code",
   "execution_count": 54,
   "metadata": {},
   "outputs": [
    {
     "data": {
      "text/plain": [
       "302578.4375"
      ]
     },
     "execution_count": 54,
     "metadata": {},
     "output_type": "execute_result"
    }
   ],
   "source": [
    "# Remaining votes towards next marginal EV for Trump\n",
    "trump_vote % votes_per_elector"
   ]
  },
  {
   "cell_type": "code",
   "execution_count": null,
   "metadata": {},
   "outputs": [],
   "source": []
  }
 ],
 "metadata": {
  "kernelspec": {
   "display_name": "Python 3",
   "language": "python",
   "name": "python3"
  },
  "language_info": {
   "codemirror_mode": {
    "name": "ipython",
    "version": 3
   },
   "file_extension": ".py",
   "mimetype": "text/x-python",
   "name": "python",
   "nbconvert_exporter": "python",
   "pygments_lexer": "ipython3",
   "version": "3.7.1"
  }
 },
 "nbformat": 4,
 "nbformat_minor": 2
}
